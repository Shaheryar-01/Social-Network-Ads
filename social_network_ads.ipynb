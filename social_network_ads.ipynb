{
 "cells": [
  {
   "cell_type": "code",
   "execution_count": 48,
   "metadata": {},
   "outputs": [],
   "source": [
    "import pandas as pd\n",
    "import numpy as np\n",
    "import matplotlib.pyplot as plt\n"
   ]
  },
  {
   "cell_type": "code",
   "execution_count": 49,
   "metadata": {},
   "outputs": [
    {
     "data": {
      "text/html": [
       "<div>\n",
       "<style scoped>\n",
       "    .dataframe tbody tr th:only-of-type {\n",
       "        vertical-align: middle;\n",
       "    }\n",
       "\n",
       "    .dataframe tbody tr th {\n",
       "        vertical-align: top;\n",
       "    }\n",
       "\n",
       "    .dataframe thead th {\n",
       "        text-align: right;\n",
       "    }\n",
       "</style>\n",
       "<table border=\"1\" class=\"dataframe\">\n",
       "  <thead>\n",
       "    <tr style=\"text-align: right;\">\n",
       "      <th></th>\n",
       "      <th>User ID</th>\n",
       "      <th>Gender</th>\n",
       "      <th>Age</th>\n",
       "      <th>EstimatedSalary</th>\n",
       "      <th>Purchased</th>\n",
       "    </tr>\n",
       "  </thead>\n",
       "  <tbody>\n",
       "    <tr>\n",
       "      <th>0</th>\n",
       "      <td>15624510</td>\n",
       "      <td>Male</td>\n",
       "      <td>19</td>\n",
       "      <td>19000</td>\n",
       "      <td>0</td>\n",
       "    </tr>\n",
       "    <tr>\n",
       "      <th>1</th>\n",
       "      <td>15810944</td>\n",
       "      <td>Male</td>\n",
       "      <td>35</td>\n",
       "      <td>20000</td>\n",
       "      <td>0</td>\n",
       "    </tr>\n",
       "    <tr>\n",
       "      <th>2</th>\n",
       "      <td>15668575</td>\n",
       "      <td>Female</td>\n",
       "      <td>26</td>\n",
       "      <td>43000</td>\n",
       "      <td>0</td>\n",
       "    </tr>\n",
       "    <tr>\n",
       "      <th>3</th>\n",
       "      <td>15603246</td>\n",
       "      <td>Female</td>\n",
       "      <td>27</td>\n",
       "      <td>57000</td>\n",
       "      <td>0</td>\n",
       "    </tr>\n",
       "    <tr>\n",
       "      <th>4</th>\n",
       "      <td>15804002</td>\n",
       "      <td>Male</td>\n",
       "      <td>19</td>\n",
       "      <td>76000</td>\n",
       "      <td>0</td>\n",
       "    </tr>\n",
       "    <tr>\n",
       "      <th>...</th>\n",
       "      <td>...</td>\n",
       "      <td>...</td>\n",
       "      <td>...</td>\n",
       "      <td>...</td>\n",
       "      <td>...</td>\n",
       "    </tr>\n",
       "    <tr>\n",
       "      <th>395</th>\n",
       "      <td>15691863</td>\n",
       "      <td>Female</td>\n",
       "      <td>46</td>\n",
       "      <td>41000</td>\n",
       "      <td>1</td>\n",
       "    </tr>\n",
       "    <tr>\n",
       "      <th>396</th>\n",
       "      <td>15706071</td>\n",
       "      <td>Male</td>\n",
       "      <td>51</td>\n",
       "      <td>23000</td>\n",
       "      <td>1</td>\n",
       "    </tr>\n",
       "    <tr>\n",
       "      <th>397</th>\n",
       "      <td>15654296</td>\n",
       "      <td>Female</td>\n",
       "      <td>50</td>\n",
       "      <td>20000</td>\n",
       "      <td>1</td>\n",
       "    </tr>\n",
       "    <tr>\n",
       "      <th>398</th>\n",
       "      <td>15755018</td>\n",
       "      <td>Male</td>\n",
       "      <td>36</td>\n",
       "      <td>33000</td>\n",
       "      <td>0</td>\n",
       "    </tr>\n",
       "    <tr>\n",
       "      <th>399</th>\n",
       "      <td>15594041</td>\n",
       "      <td>Female</td>\n",
       "      <td>49</td>\n",
       "      <td>36000</td>\n",
       "      <td>1</td>\n",
       "    </tr>\n",
       "  </tbody>\n",
       "</table>\n",
       "<p>400 rows × 5 columns</p>\n",
       "</div>"
      ],
      "text/plain": [
       "      User ID  Gender  Age  EstimatedSalary  Purchased\n",
       "0    15624510    Male   19            19000          0\n",
       "1    15810944    Male   35            20000          0\n",
       "2    15668575  Female   26            43000          0\n",
       "3    15603246  Female   27            57000          0\n",
       "4    15804002    Male   19            76000          0\n",
       "..        ...     ...  ...              ...        ...\n",
       "395  15691863  Female   46            41000          1\n",
       "396  15706071    Male   51            23000          1\n",
       "397  15654296  Female   50            20000          1\n",
       "398  15755018    Male   36            33000          0\n",
       "399  15594041  Female   49            36000          1\n",
       "\n",
       "[400 rows x 5 columns]"
      ]
     },
     "execution_count": 49,
     "metadata": {},
     "output_type": "execute_result"
    }
   ],
   "source": [
    "df = pd.read_csv('Social_Network_Ads.csv')\n",
    "df"
   ]
  },
  {
   "cell_type": "code",
   "execution_count": 50,
   "metadata": {},
   "outputs": [
    {
     "name": "stdout",
     "output_type": "stream",
     "text": [
      "<class 'pandas.core.frame.DataFrame'>\n",
      "RangeIndex: 400 entries, 0 to 399\n",
      "Data columns (total 5 columns):\n",
      " #   Column           Non-Null Count  Dtype \n",
      "---  ------           --------------  ----- \n",
      " 0   User ID          400 non-null    int64 \n",
      " 1   Gender           400 non-null    object\n",
      " 2   Age              400 non-null    int64 \n",
      " 3   EstimatedSalary  400 non-null    int64 \n",
      " 4   Purchased        400 non-null    int64 \n",
      "dtypes: int64(4), object(1)\n",
      "memory usage: 15.8+ KB\n"
     ]
    }
   ],
   "source": [
    "df.info()"
   ]
  },
  {
   "cell_type": "code",
   "execution_count": 51,
   "metadata": {},
   "outputs": [
    {
     "data": {
      "text/plain": [
       "User ID            0\n",
       "Gender             0\n",
       "Age                0\n",
       "EstimatedSalary    0\n",
       "Purchased          0\n",
       "dtype: int64"
      ]
     },
     "execution_count": 51,
     "metadata": {},
     "output_type": "execute_result"
    }
   ],
   "source": [
    "df.isnull().sum()"
   ]
  },
  {
   "cell_type": "code",
   "execution_count": 52,
   "metadata": {},
   "outputs": [
    {
     "data": {
      "text/html": [
       "<div>\n",
       "<style scoped>\n",
       "    .dataframe tbody tr th:only-of-type {\n",
       "        vertical-align: middle;\n",
       "    }\n",
       "\n",
       "    .dataframe tbody tr th {\n",
       "        vertical-align: top;\n",
       "    }\n",
       "\n",
       "    .dataframe thead th {\n",
       "        text-align: right;\n",
       "    }\n",
       "</style>\n",
       "<table border=\"1\" class=\"dataframe\">\n",
       "  <thead>\n",
       "    <tr style=\"text-align: right;\">\n",
       "      <th></th>\n",
       "      <th>User ID</th>\n",
       "      <th>Gender</th>\n",
       "      <th>Age</th>\n",
       "      <th>EstimatedSalary</th>\n",
       "      <th>Purchased</th>\n",
       "    </tr>\n",
       "  </thead>\n",
       "  <tbody>\n",
       "    <tr>\n",
       "      <th>0</th>\n",
       "      <td>15624510</td>\n",
       "      <td>1</td>\n",
       "      <td>19</td>\n",
       "      <td>19000</td>\n",
       "      <td>0</td>\n",
       "    </tr>\n",
       "    <tr>\n",
       "      <th>1</th>\n",
       "      <td>15810944</td>\n",
       "      <td>1</td>\n",
       "      <td>35</td>\n",
       "      <td>20000</td>\n",
       "      <td>0</td>\n",
       "    </tr>\n",
       "    <tr>\n",
       "      <th>2</th>\n",
       "      <td>15668575</td>\n",
       "      <td>0</td>\n",
       "      <td>26</td>\n",
       "      <td>43000</td>\n",
       "      <td>0</td>\n",
       "    </tr>\n",
       "    <tr>\n",
       "      <th>3</th>\n",
       "      <td>15603246</td>\n",
       "      <td>0</td>\n",
       "      <td>27</td>\n",
       "      <td>57000</td>\n",
       "      <td>0</td>\n",
       "    </tr>\n",
       "    <tr>\n",
       "      <th>4</th>\n",
       "      <td>15804002</td>\n",
       "      <td>1</td>\n",
       "      <td>19</td>\n",
       "      <td>76000</td>\n",
       "      <td>0</td>\n",
       "    </tr>\n",
       "    <tr>\n",
       "      <th>...</th>\n",
       "      <td>...</td>\n",
       "      <td>...</td>\n",
       "      <td>...</td>\n",
       "      <td>...</td>\n",
       "      <td>...</td>\n",
       "    </tr>\n",
       "    <tr>\n",
       "      <th>395</th>\n",
       "      <td>15691863</td>\n",
       "      <td>0</td>\n",
       "      <td>46</td>\n",
       "      <td>41000</td>\n",
       "      <td>1</td>\n",
       "    </tr>\n",
       "    <tr>\n",
       "      <th>396</th>\n",
       "      <td>15706071</td>\n",
       "      <td>1</td>\n",
       "      <td>51</td>\n",
       "      <td>23000</td>\n",
       "      <td>1</td>\n",
       "    </tr>\n",
       "    <tr>\n",
       "      <th>397</th>\n",
       "      <td>15654296</td>\n",
       "      <td>0</td>\n",
       "      <td>50</td>\n",
       "      <td>20000</td>\n",
       "      <td>1</td>\n",
       "    </tr>\n",
       "    <tr>\n",
       "      <th>398</th>\n",
       "      <td>15755018</td>\n",
       "      <td>1</td>\n",
       "      <td>36</td>\n",
       "      <td>33000</td>\n",
       "      <td>0</td>\n",
       "    </tr>\n",
       "    <tr>\n",
       "      <th>399</th>\n",
       "      <td>15594041</td>\n",
       "      <td>0</td>\n",
       "      <td>49</td>\n",
       "      <td>36000</td>\n",
       "      <td>1</td>\n",
       "    </tr>\n",
       "  </tbody>\n",
       "</table>\n",
       "<p>400 rows × 5 columns</p>\n",
       "</div>"
      ],
      "text/plain": [
       "      User ID  Gender  Age  EstimatedSalary  Purchased\n",
       "0    15624510       1   19            19000          0\n",
       "1    15810944       1   35            20000          0\n",
       "2    15668575       0   26            43000          0\n",
       "3    15603246       0   27            57000          0\n",
       "4    15804002       1   19            76000          0\n",
       "..        ...     ...  ...              ...        ...\n",
       "395  15691863       0   46            41000          1\n",
       "396  15706071       1   51            23000          1\n",
       "397  15654296       0   50            20000          1\n",
       "398  15755018       1   36            33000          0\n",
       "399  15594041       0   49            36000          1\n",
       "\n",
       "[400 rows x 5 columns]"
      ]
     },
     "execution_count": 52,
     "metadata": {},
     "output_type": "execute_result"
    }
   ],
   "source": [
    "gender_mapping = {'Female': 0, 'Male': 1}\n",
    "df1 = df\n",
    "df1['Gender'] = df1['Gender'].map(gender_mapping)\n",
    "df1"
   ]
  },
  {
   "cell_type": "code",
   "execution_count": 53,
   "metadata": {},
   "outputs": [
    {
     "data": {
      "text/html": [
       "<style type=\"text/css\">\n",
       "#T_a75d1_row0_col0, #T_a75d1_row1_col1, #T_a75d1_row2_col2, #T_a75d1_row3_col3, #T_a75d1_row4_col4 {\n",
       "  background-color: #b40426;\n",
       "  color: #f1f1f1;\n",
       "}\n",
       "#T_a75d1_row0_col1 {\n",
       "  background-color: #485fd1;\n",
       "  color: #f1f1f1;\n",
       "}\n",
       "#T_a75d1_row0_col2 {\n",
       "  background-color: #4f69d9;\n",
       "  color: #f1f1f1;\n",
       "}\n",
       "#T_a75d1_row0_col3 {\n",
       "  background-color: #6180e9;\n",
       "  color: #f1f1f1;\n",
       "}\n",
       "#T_a75d1_row0_col4 {\n",
       "  background-color: #4961d2;\n",
       "  color: #f1f1f1;\n",
       "}\n",
       "#T_a75d1_row1_col0, #T_a75d1_row1_col2, #T_a75d1_row1_col3, #T_a75d1_row1_col4, #T_a75d1_row2_col1 {\n",
       "  background-color: #3b4cc0;\n",
       "  color: #f1f1f1;\n",
       "}\n",
       "#T_a75d1_row2_col0 {\n",
       "  background-color: #4257c9;\n",
       "  color: #f1f1f1;\n",
       "}\n",
       "#T_a75d1_row2_col3 {\n",
       "  background-color: #7da0f9;\n",
       "  color: #f1f1f1;\n",
       "}\n",
       "#T_a75d1_row2_col4 {\n",
       "  background-color: #f5c0a7;\n",
       "  color: #000000;\n",
       "}\n",
       "#T_a75d1_row3_col0 {\n",
       "  background-color: #5875e1;\n",
       "  color: #f1f1f1;\n",
       "}\n",
       "#T_a75d1_row3_col1 {\n",
       "  background-color: #3e51c5;\n",
       "  color: #f1f1f1;\n",
       "}\n",
       "#T_a75d1_row3_col2 {\n",
       "  background-color: #80a3fa;\n",
       "  color: #f1f1f1;\n",
       "}\n",
       "#T_a75d1_row3_col4 {\n",
       "  background-color: #bcd2f7;\n",
       "  color: #000000;\n",
       "}\n",
       "#T_a75d1_row4_col0 {\n",
       "  background-color: #445acc;\n",
       "  color: #f1f1f1;\n",
       "}\n",
       "#T_a75d1_row4_col1 {\n",
       "  background-color: #4358cb;\n",
       "  color: #f1f1f1;\n",
       "}\n",
       "#T_a75d1_row4_col2 {\n",
       "  background-color: #f6bea4;\n",
       "  color: #000000;\n",
       "}\n",
       "#T_a75d1_row4_col3 {\n",
       "  background-color: #c0d4f5;\n",
       "  color: #000000;\n",
       "}\n",
       "</style>\n",
       "<table id=\"T_a75d1\">\n",
       "  <thead>\n",
       "    <tr>\n",
       "      <th class=\"blank level0\" >&nbsp;</th>\n",
       "      <th id=\"T_a75d1_level0_col0\" class=\"col_heading level0 col0\" >User ID</th>\n",
       "      <th id=\"T_a75d1_level0_col1\" class=\"col_heading level0 col1\" >Gender</th>\n",
       "      <th id=\"T_a75d1_level0_col2\" class=\"col_heading level0 col2\" >Age</th>\n",
       "      <th id=\"T_a75d1_level0_col3\" class=\"col_heading level0 col3\" >EstimatedSalary</th>\n",
       "      <th id=\"T_a75d1_level0_col4\" class=\"col_heading level0 col4\" >Purchased</th>\n",
       "    </tr>\n",
       "  </thead>\n",
       "  <tbody>\n",
       "    <tr>\n",
       "      <th id=\"T_a75d1_level0_row0\" class=\"row_heading level0 row0\" >User ID</th>\n",
       "      <td id=\"T_a75d1_row0_col0\" class=\"data row0 col0\" >1.000000</td>\n",
       "      <td id=\"T_a75d1_row0_col1\" class=\"data row0 col1\" >-0.025249</td>\n",
       "      <td id=\"T_a75d1_row0_col2\" class=\"data row0 col2\" >-0.000721</td>\n",
       "      <td id=\"T_a75d1_row0_col3\" class=\"data row0 col3\" >0.071097</td>\n",
       "      <td id=\"T_a75d1_row0_col4\" class=\"data row0 col4\" >0.007120</td>\n",
       "    </tr>\n",
       "    <tr>\n",
       "      <th id=\"T_a75d1_level0_row1\" class=\"row_heading level0 row1\" >Gender</th>\n",
       "      <td id=\"T_a75d1_row1_col0\" class=\"data row1 col0\" >-0.025249</td>\n",
       "      <td id=\"T_a75d1_row1_col1\" class=\"data row1 col1\" >1.000000</td>\n",
       "      <td id=\"T_a75d1_row1_col2\" class=\"data row1 col2\" >-0.073741</td>\n",
       "      <td id=\"T_a75d1_row1_col3\" class=\"data row1 col3\" >-0.060435</td>\n",
       "      <td id=\"T_a75d1_row1_col4\" class=\"data row1 col4\" >-0.042469</td>\n",
       "    </tr>\n",
       "    <tr>\n",
       "      <th id=\"T_a75d1_level0_row2\" class=\"row_heading level0 row2\" >Age</th>\n",
       "      <td id=\"T_a75d1_row2_col0\" class=\"data row2 col0\" >-0.000721</td>\n",
       "      <td id=\"T_a75d1_row2_col1\" class=\"data row2 col1\" >-0.073741</td>\n",
       "      <td id=\"T_a75d1_row2_col2\" class=\"data row2 col2\" >1.000000</td>\n",
       "      <td id=\"T_a75d1_row2_col3\" class=\"data row2 col3\" >0.155238</td>\n",
       "      <td id=\"T_a75d1_row2_col4\" class=\"data row2 col4\" >0.622454</td>\n",
       "    </tr>\n",
       "    <tr>\n",
       "      <th id=\"T_a75d1_level0_row3\" class=\"row_heading level0 row3\" >EstimatedSalary</th>\n",
       "      <td id=\"T_a75d1_row3_col0\" class=\"data row3 col0\" >0.071097</td>\n",
       "      <td id=\"T_a75d1_row3_col1\" class=\"data row3 col1\" >-0.060435</td>\n",
       "      <td id=\"T_a75d1_row3_col2\" class=\"data row3 col2\" >0.155238</td>\n",
       "      <td id=\"T_a75d1_row3_col3\" class=\"data row3 col3\" >1.000000</td>\n",
       "      <td id=\"T_a75d1_row3_col4\" class=\"data row3 col4\" >0.362083</td>\n",
       "    </tr>\n",
       "    <tr>\n",
       "      <th id=\"T_a75d1_level0_row4\" class=\"row_heading level0 row4\" >Purchased</th>\n",
       "      <td id=\"T_a75d1_row4_col0\" class=\"data row4 col0\" >0.007120</td>\n",
       "      <td id=\"T_a75d1_row4_col1\" class=\"data row4 col1\" >-0.042469</td>\n",
       "      <td id=\"T_a75d1_row4_col2\" class=\"data row4 col2\" >0.622454</td>\n",
       "      <td id=\"T_a75d1_row4_col3\" class=\"data row4 col3\" >0.362083</td>\n",
       "      <td id=\"T_a75d1_row4_col4\" class=\"data row4 col4\" >1.000000</td>\n",
       "    </tr>\n",
       "  </tbody>\n",
       "</table>\n"
      ],
      "text/plain": [
       "<pandas.io.formats.style.Styler at 0x272053bc5d0>"
      ]
     },
     "execution_count": 53,
     "metadata": {},
     "output_type": "execute_result"
    }
   ],
   "source": [
    "corr = df1.corr()\n",
    "corr.style.background_gradient(cmap='coolwarm')"
   ]
  },
  {
   "cell_type": "markdown",
   "metadata": {},
   "source": [
    "We can see that Age and Estimated Salary are highly correlated to Purchased."
   ]
  },
  {
   "cell_type": "code",
   "execution_count": 57,
   "metadata": {},
   "outputs": [
    {
     "data": {
      "text/html": [
       "<div>\n",
       "<style scoped>\n",
       "    .dataframe tbody tr th:only-of-type {\n",
       "        vertical-align: middle;\n",
       "    }\n",
       "\n",
       "    .dataframe tbody tr th {\n",
       "        vertical-align: top;\n",
       "    }\n",
       "\n",
       "    .dataframe thead th {\n",
       "        text-align: right;\n",
       "    }\n",
       "</style>\n",
       "<table border=\"1\" class=\"dataframe\">\n",
       "  <thead>\n",
       "    <tr style=\"text-align: right;\">\n",
       "      <th></th>\n",
       "      <th>Age</th>\n",
       "      <th>EstimatedSalary</th>\n",
       "    </tr>\n",
       "  </thead>\n",
       "  <tbody>\n",
       "    <tr>\n",
       "      <th>0</th>\n",
       "      <td>19</td>\n",
       "      <td>19000</td>\n",
       "    </tr>\n",
       "    <tr>\n",
       "      <th>1</th>\n",
       "      <td>35</td>\n",
       "      <td>20000</td>\n",
       "    </tr>\n",
       "    <tr>\n",
       "      <th>2</th>\n",
       "      <td>26</td>\n",
       "      <td>43000</td>\n",
       "    </tr>\n",
       "    <tr>\n",
       "      <th>3</th>\n",
       "      <td>27</td>\n",
       "      <td>57000</td>\n",
       "    </tr>\n",
       "    <tr>\n",
       "      <th>4</th>\n",
       "      <td>19</td>\n",
       "      <td>76000</td>\n",
       "    </tr>\n",
       "    <tr>\n",
       "      <th>...</th>\n",
       "      <td>...</td>\n",
       "      <td>...</td>\n",
       "    </tr>\n",
       "    <tr>\n",
       "      <th>395</th>\n",
       "      <td>46</td>\n",
       "      <td>41000</td>\n",
       "    </tr>\n",
       "    <tr>\n",
       "      <th>396</th>\n",
       "      <td>51</td>\n",
       "      <td>23000</td>\n",
       "    </tr>\n",
       "    <tr>\n",
       "      <th>397</th>\n",
       "      <td>50</td>\n",
       "      <td>20000</td>\n",
       "    </tr>\n",
       "    <tr>\n",
       "      <th>398</th>\n",
       "      <td>36</td>\n",
       "      <td>33000</td>\n",
       "    </tr>\n",
       "    <tr>\n",
       "      <th>399</th>\n",
       "      <td>49</td>\n",
       "      <td>36000</td>\n",
       "    </tr>\n",
       "  </tbody>\n",
       "</table>\n",
       "<p>400 rows × 2 columns</p>\n",
       "</div>"
      ],
      "text/plain": [
       "     Age  EstimatedSalary\n",
       "0     19            19000\n",
       "1     35            20000\n",
       "2     26            43000\n",
       "3     27            57000\n",
       "4     19            76000\n",
       "..   ...              ...\n",
       "395   46            41000\n",
       "396   51            23000\n",
       "397   50            20000\n",
       "398   36            33000\n",
       "399   49            36000\n",
       "\n",
       "[400 rows x 2 columns]"
      ]
     },
     "execution_count": 57,
     "metadata": {},
     "output_type": "execute_result"
    }
   ],
   "source": [
    "X = df.iloc[:, 2:4] #only including Age and Estimated Salary\n",
    "X"
   ]
  },
  {
   "cell_type": "code",
   "execution_count": 58,
   "metadata": {},
   "outputs": [
    {
     "data": {
      "text/plain": [
       "array([0, 0, 0, 0, 0, 0, 0, 1, 0, 0, 0, 0, 0, 0, 0, 0, 1, 1, 1, 1, 1, 1,\n",
       "       1, 1, 1, 1, 1, 1, 0, 0, 0, 1, 0, 0, 0, 0, 0, 0, 0, 0, 0, 0, 0, 0,\n",
       "       0, 0, 0, 0, 1, 0, 0, 0, 0, 0, 0, 0, 0, 0, 0, 0, 0, 0, 0, 1, 0, 0,\n",
       "       0, 0, 0, 0, 0, 0, 0, 0, 0, 1, 0, 0, 0, 0, 0, 0, 0, 0, 0, 1, 0, 0,\n",
       "       0, 0, 0, 0, 0, 0, 0, 0, 0, 1, 0, 0, 0, 0, 0, 1, 0, 0, 0, 0, 0, 0,\n",
       "       0, 0, 0, 0, 0, 0, 0, 0, 0, 0, 0, 0, 0, 0, 0, 0, 0, 0, 0, 0, 0, 0,\n",
       "       0, 0, 0, 0, 0, 1, 0, 0, 0, 0, 0, 0, 0, 0, 1, 0, 0, 0, 0, 0, 0, 0,\n",
       "       0, 0, 0, 0, 0, 1, 1, 0, 0, 0, 0, 0, 0, 0, 1, 0, 0, 0, 0, 0, 0, 0,\n",
       "       0, 0, 0, 0, 0, 0, 1, 0, 0, 0, 0, 0, 0, 0, 0, 0, 0, 0, 0, 0, 0, 0,\n",
       "       0, 0, 0, 0, 1, 0, 1, 0, 1, 0, 1, 0, 1, 1, 0, 0, 0, 1, 0, 0, 0, 1,\n",
       "       0, 1, 1, 1, 0, 0, 1, 1, 0, 1, 1, 0, 1, 1, 0, 1, 0, 0, 0, 1, 1, 0,\n",
       "       1, 1, 0, 1, 0, 1, 0, 1, 0, 0, 1, 1, 0, 1, 0, 0, 1, 1, 0, 1, 1, 0,\n",
       "       1, 1, 0, 0, 1, 0, 0, 1, 1, 1, 1, 1, 0, 1, 1, 1, 1, 0, 1, 1, 0, 1,\n",
       "       0, 1, 0, 1, 1, 1, 1, 0, 0, 0, 1, 1, 0, 1, 1, 1, 1, 1, 0, 0, 0, 1,\n",
       "       1, 0, 0, 1, 0, 1, 0, 1, 1, 0, 1, 0, 1, 1, 0, 1, 1, 0, 0, 0, 1, 1,\n",
       "       0, 1, 0, 0, 1, 0, 1, 0, 0, 1, 1, 0, 0, 1, 1, 0, 1, 1, 0, 0, 1, 0,\n",
       "       1, 0, 1, 1, 1, 0, 1, 0, 1, 1, 1, 0, 1, 1, 1, 1, 0, 1, 1, 1, 0, 1,\n",
       "       0, 1, 0, 0, 1, 1, 0, 1, 1, 1, 1, 1, 1, 0, 1, 1, 1, 1, 1, 1, 0, 1,\n",
       "       1, 1, 0, 1], dtype=int64)"
      ]
     },
     "execution_count": 58,
     "metadata": {},
     "output_type": "execute_result"
    }
   ],
   "source": [
    "y = df.Purchased.values\n",
    "y"
   ]
  },
  {
   "cell_type": "code",
   "execution_count": 59,
   "metadata": {},
   "outputs": [
    {
     "data": {
      "text/plain": [
       "(400,)"
      ]
     },
     "execution_count": 59,
     "metadata": {},
     "output_type": "execute_result"
    }
   ],
   "source": [
    "y.shape"
   ]
  },
  {
   "cell_type": "code",
   "execution_count": 61,
   "metadata": {},
   "outputs": [
    {
     "data": {
      "text/html": [
       "<div>\n",
       "<style scoped>\n",
       "    .dataframe tbody tr th:only-of-type {\n",
       "        vertical-align: middle;\n",
       "    }\n",
       "\n",
       "    .dataframe tbody tr th {\n",
       "        vertical-align: top;\n",
       "    }\n",
       "\n",
       "    .dataframe thead th {\n",
       "        text-align: right;\n",
       "    }\n",
       "</style>\n",
       "<table border=\"1\" class=\"dataframe\">\n",
       "  <thead>\n",
       "    <tr style=\"text-align: right;\">\n",
       "      <th></th>\n",
       "      <th>Age</th>\n",
       "      <th>EstimatedSalary</th>\n",
       "    </tr>\n",
       "  </thead>\n",
       "  <tbody>\n",
       "    <tr>\n",
       "      <th>220</th>\n",
       "      <td>41</td>\n",
       "      <td>80000</td>\n",
       "    </tr>\n",
       "    <tr>\n",
       "      <th>393</th>\n",
       "      <td>60</td>\n",
       "      <td>42000</td>\n",
       "    </tr>\n",
       "    <tr>\n",
       "      <th>259</th>\n",
       "      <td>45</td>\n",
       "      <td>131000</td>\n",
       "    </tr>\n",
       "    <tr>\n",
       "      <th>162</th>\n",
       "      <td>37</td>\n",
       "      <td>33000</td>\n",
       "    </tr>\n",
       "    <tr>\n",
       "      <th>135</th>\n",
       "      <td>23</td>\n",
       "      <td>63000</td>\n",
       "    </tr>\n",
       "    <tr>\n",
       "      <th>...</th>\n",
       "      <td>...</td>\n",
       "      <td>...</td>\n",
       "    </tr>\n",
       "    <tr>\n",
       "      <th>360</th>\n",
       "      <td>43</td>\n",
       "      <td>129000</td>\n",
       "    </tr>\n",
       "    <tr>\n",
       "      <th>254</th>\n",
       "      <td>50</td>\n",
       "      <td>44000</td>\n",
       "    </tr>\n",
       "    <tr>\n",
       "      <th>229</th>\n",
       "      <td>42</td>\n",
       "      <td>80000</td>\n",
       "    </tr>\n",
       "    <tr>\n",
       "      <th>23</th>\n",
       "      <td>45</td>\n",
       "      <td>22000</td>\n",
       "    </tr>\n",
       "    <tr>\n",
       "      <th>101</th>\n",
       "      <td>28</td>\n",
       "      <td>59000</td>\n",
       "    </tr>\n",
       "  </tbody>\n",
       "</table>\n",
       "<p>320 rows × 2 columns</p>\n",
       "</div>"
      ],
      "text/plain": [
       "     Age  EstimatedSalary\n",
       "220   41            80000\n",
       "393   60            42000\n",
       "259   45           131000\n",
       "162   37            33000\n",
       "135   23            63000\n",
       "..   ...              ...\n",
       "360   43           129000\n",
       "254   50            44000\n",
       "229   42            80000\n",
       "23    45            22000\n",
       "101   28            59000\n",
       "\n",
       "[320 rows x 2 columns]"
      ]
     },
     "execution_count": 61,
     "metadata": {},
     "output_type": "execute_result"
    }
   ],
   "source": [
    "from sklearn.model_selection import train_test_split\n",
    "X_train, X_test, y_train, y_test = train_test_split(X, y, test_size = 0.2)\n",
    "X_train"
   ]
  },
  {
   "cell_type": "code",
   "execution_count": 62,
   "metadata": {},
   "outputs": [],
   "source": [
    "from sklearn.preprocessing import StandardScaler\n",
    "scaler = StandardScaler()\n",
    " "
   ]
  },
  {
   "cell_type": "code",
   "execution_count": 63,
   "metadata": {},
   "outputs": [
    {
     "data": {
      "text/plain": [
       "array([[ 3.01441503e-01,  3.64860426e-01],\n",
       "       [ 2.13237491e+00, -7.88428572e-01],\n",
       "       [ 6.86901168e-01,  1.91269566e+00],\n",
       "       [-8.40181612e-02, -1.06157597e+00],\n",
       "       [-1.43312699e+00, -1.51084652e-01],\n",
       "       [ 3.97806419e-01,  2.45899045e+00],\n",
       "       [-1.33676207e+00, -1.48647191e+00],\n",
       "       [-2.76747993e-01, -7.27729151e-01],\n",
       "       [ 8.79631000e-01, -1.15262510e+00],\n",
       "       [ 9.75995916e-01, -1.18297481e+00],\n",
       "       [ 9.75995916e-01,  1.91269566e+00],\n",
       "       [-1.14403224e+00, -1.00087655e+00],\n",
       "       [-9.51302406e-01, -3.93882336e-01],\n",
       "       [ 3.01441503e-01, -5.15281178e-01],\n",
       "       [-1.91495157e+00, -4.84931468e-01],\n",
       "       [ 1.55418541e+00,  6.13633209e-02],\n",
       "       [ 1.93964508e+00, -9.09827414e-01],\n",
       "       [ 3.01441503e-01,  1.22062742e-01],\n",
       "       [ 1.55418541e+00,  1.09325348e+00],\n",
       "       [-1.62585682e+00,  1.22062742e-01],\n",
       "       [-8.54937490e-01,  3.64860426e-01],\n",
       "       [-8.40181612e-02,  2.73811294e-01],\n",
       "       [-6.62207658e-01, -6.00355210e-02],\n",
       "       [ 1.23467549e-02, -3.93882336e-01],\n",
       "       [ 9.75995916e-01,  2.00374479e+00],\n",
       "       [-2.76747993e-01,  1.52412452e-01],\n",
       "       [ 1.23467549e-02, -2.72483494e-01],\n",
       "       [ 7.83266084e-01,  4.25559846e-01],\n",
       "       [-3.73112910e-01,  1.22062742e-01],\n",
       "       [ 1.65055033e+00, -8.79477704e-01],\n",
       "       [ 8.79631000e-01, -6.36680020e-01],\n",
       "       [-1.43312699e+00, -1.21332452e+00],\n",
       "       [ 1.08711671e-01,  3.34510715e-01],\n",
       "       [ 9.75995916e-01,  2.21619276e+00],\n",
       "       [-5.65842742e-01,  1.48779971e+00],\n",
       "       [ 8.79631000e-01, -1.30437365e+00],\n",
       "       [ 1.84328016e+00, -1.06157597e+00],\n",
       "       [ 1.23467549e-02, -2.11784073e-01],\n",
       "       [-8.54937490e-01,  2.42864074e+00],\n",
       "       [-8.40181612e-02,  3.04161005e-01],\n",
       "       [ 9.75995916e-01,  1.82762163e-01],\n",
       "       [-1.04766732e+00, -3.33182915e-01],\n",
       "       [ 1.45782050e+00,  1.22062742e-01],\n",
       "       [-1.14403224e+00, -7.58078862e-01],\n",
       "       [-2.76747993e-01, -2.72483494e-01],\n",
       "       [-8.54937490e-01,  4.55909557e-01],\n",
       "       [-2.76747993e-01,  9.17130313e-02],\n",
       "       [-7.58572574e-01,  3.34510715e-01],\n",
       "       [-1.80383077e-01, -4.84931468e-01],\n",
       "       [-8.40181612e-02,  6.13633209e-02],\n",
       "       [ 1.16872575e+00,  6.07658109e-01],\n",
       "       [ 1.16872575e+00, -9.70526835e-01],\n",
       "       [ 2.05076587e-01,  2.13111873e-01],\n",
       "       [-2.76747993e-01, -8.79477704e-01],\n",
       "       [ 6.86901168e-01, -6.97379441e-01],\n",
       "       [-1.04766732e+00, -1.45612220e+00],\n",
       "       [ 2.05076587e-01, -3.33182915e-01],\n",
       "       [-1.72222174e+00,  4.25559846e-01],\n",
       "       [ 8.79631000e-01, -1.03122626e+00],\n",
       "       [ 1.84328016e+00, -2.42133784e-01],\n",
       "       [-3.73112910e-01, -7.58078862e-01],\n",
       "       [ 1.23467549e-02, -9.03852315e-02],\n",
       "       [ 2.13237491e+00,  1.03255406e+00],\n",
       "       [-2.76747993e-01, -2.11784073e-01],\n",
       "       [-1.14403224e+00, -1.60787075e+00],\n",
       "       [ 7.83266084e-01, -1.09192568e+00],\n",
       "       [-8.40181612e-02,  2.09479392e+00],\n",
       "       [-1.14403224e+00,  3.64860426e-01],\n",
       "       [-9.51302406e-01, -9.40177125e-01],\n",
       "       [ 2.03600999e+00,  2.43461584e-01],\n",
       "       [ 1.74691524e+00,  1.97339508e+00],\n",
       "       [-2.76747993e-01,  2.13111873e-01],\n",
       "       [-1.24039715e+00,  6.68357530e-01],\n",
       "       [-1.52949190e+00, -1.51682162e+00],\n",
       "       [ 1.36145558e+00, -1.42577249e+00],\n",
       "       [-1.33676207e+00, -3.93882336e-01],\n",
       "       [-1.14403224e+00,  3.64860426e-01],\n",
       "       [ 2.05076587e-01, -3.33182915e-01],\n",
       "       [ 1.93964508e+00, -1.36507307e+00],\n",
       "       [ 1.08711671e-01,  9.17130313e-02],\n",
       "       [ 9.75995916e-01, -1.06157597e+00],\n",
       "       [-8.54937490e-01,  2.13111873e-01],\n",
       "       [ 1.74691524e+00, -2.42133784e-01],\n",
       "       [-1.14403224e+00, -1.09192568e+00],\n",
       "       [ 3.97806419e-01, -9.03852315e-02],\n",
       "       [ 1.36145558e+00, -9.09827414e-01],\n",
       "       [ 3.97806419e-01,  1.21465232e+00],\n",
       "       [ 2.03600999e+00,  1.88234595e+00],\n",
       "       [ 2.03600999e+00, -7.88428572e-01],\n",
       "       [-1.80383077e-01, -2.42133784e-01],\n",
       "       [-3.73112910e-01,  1.42710029e+00],\n",
       "       [-6.62207658e-01,  6.38007820e-01],\n",
       "       [-8.40181612e-02, -3.93882336e-01],\n",
       "       [ 1.08711671e-01, -7.88428572e-01],\n",
       "       [ 1.93964508e+00, -6.36680020e-01],\n",
       "       [-1.14403224e+00, -1.57752104e+00],\n",
       "       [-7.58572574e-01, -1.54717133e+00],\n",
       "       [ 7.83266084e-01, -1.36507307e+00],\n",
       "       [-9.51302406e-01,  4.86259267e-01],\n",
       "       [ 3.97806419e-01, -4.24232047e-01],\n",
       "       [ 8.79631000e-01, -7.58078862e-01],\n",
       "       [-1.04766732e+00,  2.09479392e+00],\n",
       "       [ 2.05076587e-01, -9.03852315e-02],\n",
       "       [ 1.36145558e+00,  6.68357530e-01],\n",
       "       [-7.58572574e-01, -1.81434363e-01],\n",
       "       [ 3.97806419e-01,  1.52412452e-01],\n",
       "       [ 9.75995916e-01,  6.68357530e-01],\n",
       "       [-8.54937490e-01, -7.58078862e-01],\n",
       "       [ 1.23467549e-02,  9.17130313e-02],\n",
       "       [-2.76747993e-01, -3.93882336e-01],\n",
       "       [ 3.01441503e-01, -2.42133784e-01],\n",
       "       [-1.80383077e-01,  1.51814942e+00],\n",
       "       [-6.62207658e-01, -1.60787075e+00],\n",
       "       [-1.91495157e+00, -7.27729151e-01],\n",
       "       [-6.62207658e-01,  1.51814942e+00],\n",
       "       [-4.69477826e-01, -5.15281178e-01],\n",
       "       [-1.04766732e+00, -3.02833205e-01],\n",
       "       [ 4.94171335e-01,  1.97339508e+00],\n",
       "       [ 1.08711671e-01, -2.11784073e-01],\n",
       "       [ 3.01441503e-01, -2.72483494e-01],\n",
       "       [-6.62207658e-01, -1.03122626e+00],\n",
       "       [-1.80383077e-01, -4.24232047e-01],\n",
       "       [ 1.45782050e+00,  2.27689218e+00],\n",
       "       [ 7.83266084e-01, -1.21332452e+00],\n",
       "       [-1.62585682e+00,  6.63899916e-04],\n",
       "       [-2.76747993e-01, -1.45612220e+00],\n",
       "       [-7.58572574e-01, -5.75980599e-01],\n",
       "       [-2.76747993e-01,  2.73811294e-01],\n",
       "       [-2.76747993e-01,  2.13111873e-01],\n",
       "       [ 2.05076587e-01,  9.17130313e-02],\n",
       "       [ 6.86901168e-01, -1.09192568e+00],\n",
       "       [-1.72222174e+00, -5.75980599e-01],\n",
       "       [ 1.84328016e+00, -1.27402394e+00],\n",
       "       [ 2.05076587e-01, -3.33182915e-01],\n",
       "       [-1.04766732e+00,  4.86259267e-01],\n",
       "       [-7.58572574e-01, -1.60787075e+00],\n",
       "       [-1.52949190e+00, -3.93882336e-01],\n",
       "       [ 2.05076587e-01, -2.72483494e-01],\n",
       "       [-8.54937490e-01, -7.58078862e-01],\n",
       "       [-9.51302406e-01, -7.27729151e-01],\n",
       "       [-9.51302406e-01,  5.16608978e-01],\n",
       "       [-5.65842742e-01,  2.03409450e+00],\n",
       "       [-1.33676207e+00, -1.24367423e+00],\n",
       "       [-1.80383077e-01,  9.41504924e-01],\n",
       "       [ 2.05076587e-01,  1.22062742e-01],\n",
       "       [ 2.03600999e+00,  2.27689218e+00],\n",
       "       [-1.14403224e+00,  1.51814942e+00],\n",
       "       [ 9.75995916e-01, -1.00087655e+00],\n",
       "       [-1.33676207e+00, -1.36507307e+00],\n",
       "       [-2.76747993e-01, -1.30437365e+00],\n",
       "       [ 9.75995916e-01,  2.12514363e+00],\n",
       "       [-2.76747993e-01,  2.39829103e+00],\n",
       "       [-1.04766732e+00, -3.02833205e-01],\n",
       "       [-1.24039715e+00,  3.64860426e-01],\n",
       "       [ 1.08711671e-01, -2.72483494e-01],\n",
       "       [ 3.01441503e-01,  1.22062742e-01],\n",
       "       [ 1.08711671e-01, -7.88428572e-01],\n",
       "       [-6.62207658e-01,  9.17130313e-02],\n",
       "       [ 2.05076587e-01,  3.04161005e-01],\n",
       "       [ 3.01441503e-01, -6.97379441e-01],\n",
       "       [ 3.01441503e-01, -1.15262510e+00],\n",
       "       [-1.04766732e+00, -1.54717133e+00],\n",
       "       [ 2.03600999e+00,  6.07658109e-01],\n",
       "       [ 1.08711671e-01,  9.17130313e-02],\n",
       "       [ 1.08711671e-01,  2.00374479e+00],\n",
       "       [ 2.05076587e-01,  1.18430261e+00],\n",
       "       [ 1.07236083e+00,  2.21619276e+00],\n",
       "       [-1.04766732e+00, -4.24232047e-01],\n",
       "       [ 2.13237491e+00,  4.55909557e-01],\n",
       "       [-4.69477826e-01, -1.12227539e+00],\n",
       "       [-2.76747993e-01, -9.03852315e-02],\n",
       "       [-1.80383077e-01,  2.30724190e+00],\n",
       "       [-2.76747993e-01,  8.80805503e-01],\n",
       "       [ 1.26509066e+00, -1.36507307e+00],\n",
       "       [-8.40181612e-02,  2.30724190e+00],\n",
       "       [ 3.01441503e-01, -4.84931468e-01],\n",
       "       [ 1.65055033e+00,  1.88234595e+00],\n",
       "       [ 3.01441503e-01,  1.22062742e-01],\n",
       "       [-1.80383077e-01,  1.76094711e+00],\n",
       "       [-2.76747993e-01, -6.36680020e-01],\n",
       "       [ 1.55418541e+00,  1.21465232e+00],\n",
       "       [-1.91495157e+00,  6.63899916e-04],\n",
       "       [ 7.83266084e-01,  6.07658109e-01],\n",
       "       [-2.76747993e-01, -9.09827414e-01],\n",
       "       [-1.81858665e+00, -1.30437365e+00],\n",
       "       [-6.62207658e-01,  1.82762163e-01],\n",
       "       [ 1.07236083e+00,  1.82762163e-01],\n",
       "       [ 1.08711671e-01,  8.50455793e-01],\n",
       "       [ 3.97806419e-01, -9.03852315e-02],\n",
       "       [-1.52949190e+00, -1.51084652e-01],\n",
       "       [-1.14403224e+00,  5.46958688e-01],\n",
       "       [-1.81858665e+00,  5.16608978e-01],\n",
       "       [-2.76747993e-01, -1.36507307e+00],\n",
       "       [-3.73112910e-01, -7.58078862e-01],\n",
       "       [-3.73112910e-01, -1.30437365e+00],\n",
       "       [ 2.05076587e-01,  2.24654247e+00],\n",
       "       [ 7.83266084e-01, -1.39542278e+00],\n",
       "       [ 8.79631000e-01,  2.30724190e+00],\n",
       "       [ 1.07236083e+00, -9.70526835e-01],\n",
       "       [-1.04766732e+00,  6.38007820e-01],\n",
       "       [-1.52949190e+00,  3.95210136e-01],\n",
       "       [-1.72222174e+00, -9.70526835e-01],\n",
       "       [ 9.75995916e-01, -1.15262510e+00],\n",
       "       [ 2.05076587e-01, -2.42133784e-01],\n",
       "       [ 1.07236083e+00, -8.79477704e-01],\n",
       "       [ 3.97806419e-01,  2.13111873e-01],\n",
       "       [-6.62207658e-01,  6.63899916e-04],\n",
       "       [-8.40181612e-02, -1.81434363e-01],\n",
       "       [ 1.26509066e+00,  2.00374479e+00],\n",
       "       [-1.04766732e+00, -1.12227539e+00],\n",
       "       [-7.58572574e-01,  3.64860426e-01],\n",
       "       [ 9.75995916e-01,  8.50455793e-01],\n",
       "       [-1.14403224e+00,  4.86259267e-01],\n",
       "       [-1.72222174e+00,  4.25559846e-01],\n",
       "       [-4.69477826e-01, -7.58078862e-01],\n",
       "       [-1.72222174e+00,  1.82762163e-01],\n",
       "       [-1.43312699e+00, -6.00355210e-02],\n",
       "       [-6.62207658e-01, -3.02833205e-01],\n",
       "       [-4.69477826e-01,  3.10136104e-02],\n",
       "       [ 8.79631000e-01,  1.18430261e+00],\n",
       "       [-1.14403224e+00, -1.15262510e+00],\n",
       "       [-1.33676207e+00,  4.86259267e-01],\n",
       "       [ 2.13237491e+00, -7.88428572e-01],\n",
       "       [ 2.13237491e+00, -6.67029730e-01],\n",
       "       [-6.62207658e-01, -1.51682162e+00],\n",
       "       [-4.69477826e-01,  2.45899045e+00],\n",
       "       [ 1.45782050e+00,  1.09325348e+00],\n",
       "       [-2.76747993e-01, -1.39542278e+00],\n",
       "       [-2.76747993e-01, -5.45630888e-01],\n",
       "       [-8.40181612e-02, -4.84931468e-01],\n",
       "       [-8.54937490e-01, -2.11784073e-01],\n",
       "       [-8.40181612e-02,  1.82762163e-01],\n",
       "       [ 9.75995916e-01, -8.18778283e-01],\n",
       "       [-1.72222174e+00, -1.36507307e+00],\n",
       "       [ 2.03600999e+00, -1.18297481e+00],\n",
       "       [ 1.84328016e+00,  1.63954827e+00],\n",
       "       [ 2.05076587e-01, -2.11784073e-01],\n",
       "       [ 8.79631000e-01,  1.12360319e+00],\n",
       "       [-1.43312699e+00, -1.45612220e+00],\n",
       "       [ 3.97806419e-01,  1.09325348e+00],\n",
       "       [-2.76747993e-01,  3.34510715e-01],\n",
       "       [-1.04766732e+00,  6.68357530e-01],\n",
       "       [-2.76747993e-01, -3.02833205e-01],\n",
       "       [ 3.97806419e-01, -4.54581757e-01],\n",
       "       [ 1.23467549e-02,  3.64860426e-01],\n",
       "       [ 7.83266084e-01,  1.82762163e-01],\n",
       "       [ 3.01441503e-01, -1.51084652e-01],\n",
       "       [-1.62585682e+00,  6.07658109e-01],\n",
       "       [ 9.75995916e-01,  1.54849913e+00],\n",
       "       [-2.76747993e-01, -5.45630888e-01],\n",
       "       [ 1.55418541e+00, -1.27402394e+00],\n",
       "       [ 1.07236083e+00, -9.03852315e-02],\n",
       "       [-2.76747993e-01,  1.22062742e-01],\n",
       "       [-1.81858665e+00, -1.48647191e+00],\n",
       "       [-1.52949190e+00, -1.24367423e+00],\n",
       "       [-8.54937490e-01,  4.55909557e-01],\n",
       "       [ 1.93964508e+00,  8.20106083e-01],\n",
       "       [-1.14403224e+00, -4.84931468e-01],\n",
       "       [-1.43312699e+00, -6.06330309e-01],\n",
       "       [-8.54937490e-01, -6.36680020e-01],\n",
       "       [-9.51302406e-01,  5.77308399e-01],\n",
       "       [ 2.05076587e-01, -6.36680020e-01],\n",
       "       [-8.40181612e-02,  2.13111873e-01],\n",
       "       [ 3.97806419e-01,  6.13633209e-02],\n",
       "       [ 2.05076587e-01,  2.13111873e-01],\n",
       "       [-5.65842742e-01,  1.48779971e+00],\n",
       "       [-6.62207658e-01,  2.43461584e-01],\n",
       "       [-8.40181612e-02,  3.34510715e-01],\n",
       "       [-5.65842742e-01,  1.57884884e+00],\n",
       "       [ 7.83266084e-01,  3.34510715e-01],\n",
       "       [-8.40181612e-02, -4.54581757e-01],\n",
       "       [-4.69477826e-01, -2.42133784e-01],\n",
       "       [ 1.08711671e-01,  1.63954827e+00],\n",
       "       [-2.76747993e-01,  6.98707241e-01],\n",
       "       [ 8.79631000e-01, -5.15281178e-01],\n",
       "       [ 1.36145558e+00,  2.12514363e+00],\n",
       "       [-7.58572574e-01,  1.18430261e+00],\n",
       "       [ 1.23467549e-02,  1.36640087e+00],\n",
       "       [-5.65842742e-01,  9.71854635e-01],\n",
       "       [ 6.86901168e-01,  3.34510715e-01],\n",
       "       [ 1.45782050e+00,  4.25559846e-01],\n",
       "       [ 2.13237491e+00, -1.03122626e+00],\n",
       "       [-9.51302406e-01,  3.34510715e-01],\n",
       "       [-1.80383077e-01, -1.51084652e-01],\n",
       "       [-1.91495157e+00,  4.25559846e-01],\n",
       "       [ 8.79631000e-01, -5.45630888e-01],\n",
       "       [ 1.07236083e+00, -1.21332452e+00],\n",
       "       [-9.51302406e-01, -1.09192568e+00],\n",
       "       [ 3.97806419e-01, -4.24232047e-01],\n",
       "       [-1.14403224e+00,  1.22062742e-01],\n",
       "       [ 6.86901168e-01, -1.27402394e+00],\n",
       "       [ 5.90536252e-01, -8.79477704e-01],\n",
       "       [ 3.01441503e-01,  9.17130313e-02],\n",
       "       [ 3.97806419e-01,  3.64860426e-01],\n",
       "       [-1.14403224e+00, -1.60787075e+00],\n",
       "       [-8.40181612e-02,  3.64860426e-01],\n",
       "       [ 3.01441503e-01,  3.34510715e-01],\n",
       "       [-1.24039715e+00, -1.06157597e+00],\n",
       "       [ 1.36145558e+00,  1.39675058e+00],\n",
       "       [-4.69477826e-01, -8.18778283e-01],\n",
       "       [-8.40181612e-02,  9.17130313e-02],\n",
       "       [ 1.07236083e+00,  6.07658109e-01],\n",
       "       [ 1.07236083e+00,  5.46958688e-01],\n",
       "       [-2.76747993e-01, -3.33182915e-01],\n",
       "       [-8.40181612e-02,  3.64860426e-01],\n",
       "       [-2.76747993e-01, -4.54581757e-01],\n",
       "       [-4.69477826e-01,  1.36640087e+00],\n",
       "       [ 1.08711671e-01,  1.52412452e-01],\n",
       "       [-2.76747993e-01, -1.24367423e+00],\n",
       "       [-9.51302406e-01, -2.72483494e-01],\n",
       "       [ 1.07236083e+00,  6.38007820e-01],\n",
       "       [ 3.01441503e-01,  5.77308399e-01],\n",
       "       [-7.58572574e-01,  6.38007820e-01],\n",
       "       [ 1.07236083e+00, -1.21332452e+00],\n",
       "       [ 8.79631000e-01, -5.75980599e-01],\n",
       "       [ 4.94171335e-01,  1.85199624e+00],\n",
       "       [ 1.16872575e+00, -7.27729151e-01],\n",
       "       [ 3.97806419e-01,  3.64860426e-01],\n",
       "       [ 6.86901168e-01, -1.39542278e+00],\n",
       "       [-9.51302406e-01, -2.72483494e-01]])"
      ]
     },
     "execution_count": 63,
     "metadata": {},
     "output_type": "execute_result"
    }
   ],
   "source": [
    "X_train = scaler.fit_transform(X_train)\n",
    "X_test = scaler.transform(X_test)\n",
    "X_train"
   ]
  },
  {
   "cell_type": "code",
   "execution_count": 68,
   "metadata": {},
   "outputs": [
    {
     "data": {
      "text/plain": [
       "320"
      ]
     },
     "execution_count": 68,
     "metadata": {},
     "output_type": "execute_result"
    }
   ],
   "source": [
    "X_train.shape[0]"
   ]
  },
  {
   "cell_type": "code",
   "execution_count": 64,
   "metadata": {},
   "outputs": [
    {
     "data": {
      "text/plain": [
       "17.88854381999832"
      ]
     },
     "execution_count": 64,
     "metadata": {},
     "output_type": "execute_result"
    }
   ],
   "source": [
    "#1st method of finding k\n",
    "np.sqrt(X_train.shape[0])\n",
    "\n"
   ]
  },
  {
   "cell_type": "code",
   "execution_count": 70,
   "metadata": {},
   "outputs": [],
   "source": [
    "k = 17 #always select odd value\n"
   ]
  },
  {
   "cell_type": "code",
   "execution_count": 71,
   "metadata": {},
   "outputs": [
    {
     "data": {
      "text/html": [
       "<style>#sk-container-id-2 {color: black;}#sk-container-id-2 pre{padding: 0;}#sk-container-id-2 div.sk-toggleable {background-color: white;}#sk-container-id-2 label.sk-toggleable__label {cursor: pointer;display: block;width: 100%;margin-bottom: 0;padding: 0.3em;box-sizing: border-box;text-align: center;}#sk-container-id-2 label.sk-toggleable__label-arrow:before {content: \"▸\";float: left;margin-right: 0.25em;color: #696969;}#sk-container-id-2 label.sk-toggleable__label-arrow:hover:before {color: black;}#sk-container-id-2 div.sk-estimator:hover label.sk-toggleable__label-arrow:before {color: black;}#sk-container-id-2 div.sk-toggleable__content {max-height: 0;max-width: 0;overflow: hidden;text-align: left;background-color: #f0f8ff;}#sk-container-id-2 div.sk-toggleable__content pre {margin: 0.2em;color: black;border-radius: 0.25em;background-color: #f0f8ff;}#sk-container-id-2 input.sk-toggleable__control:checked~div.sk-toggleable__content {max-height: 200px;max-width: 100%;overflow: auto;}#sk-container-id-2 input.sk-toggleable__control:checked~label.sk-toggleable__label-arrow:before {content: \"▾\";}#sk-container-id-2 div.sk-estimator input.sk-toggleable__control:checked~label.sk-toggleable__label {background-color: #d4ebff;}#sk-container-id-2 div.sk-label input.sk-toggleable__control:checked~label.sk-toggleable__label {background-color: #d4ebff;}#sk-container-id-2 input.sk-hidden--visually {border: 0;clip: rect(1px 1px 1px 1px);clip: rect(1px, 1px, 1px, 1px);height: 1px;margin: -1px;overflow: hidden;padding: 0;position: absolute;width: 1px;}#sk-container-id-2 div.sk-estimator {font-family: monospace;background-color: #f0f8ff;border: 1px dotted black;border-radius: 0.25em;box-sizing: border-box;margin-bottom: 0.5em;}#sk-container-id-2 div.sk-estimator:hover {background-color: #d4ebff;}#sk-container-id-2 div.sk-parallel-item::after {content: \"\";width: 100%;border-bottom: 1px solid gray;flex-grow: 1;}#sk-container-id-2 div.sk-label:hover label.sk-toggleable__label {background-color: #d4ebff;}#sk-container-id-2 div.sk-serial::before {content: \"\";position: absolute;border-left: 1px solid gray;box-sizing: border-box;top: 0;bottom: 0;left: 50%;z-index: 0;}#sk-container-id-2 div.sk-serial {display: flex;flex-direction: column;align-items: center;background-color: white;padding-right: 0.2em;padding-left: 0.2em;position: relative;}#sk-container-id-2 div.sk-item {position: relative;z-index: 1;}#sk-container-id-2 div.sk-parallel {display: flex;align-items: stretch;justify-content: center;background-color: white;position: relative;}#sk-container-id-2 div.sk-item::before, #sk-container-id-2 div.sk-parallel-item::before {content: \"\";position: absolute;border-left: 1px solid gray;box-sizing: border-box;top: 0;bottom: 0;left: 50%;z-index: -1;}#sk-container-id-2 div.sk-parallel-item {display: flex;flex-direction: column;z-index: 1;position: relative;background-color: white;}#sk-container-id-2 div.sk-parallel-item:first-child::after {align-self: flex-end;width: 50%;}#sk-container-id-2 div.sk-parallel-item:last-child::after {align-self: flex-start;width: 50%;}#sk-container-id-2 div.sk-parallel-item:only-child::after {width: 0;}#sk-container-id-2 div.sk-dashed-wrapped {border: 1px dashed gray;margin: 0 0.4em 0.5em 0.4em;box-sizing: border-box;padding-bottom: 0.4em;background-color: white;}#sk-container-id-2 div.sk-label label {font-family: monospace;font-weight: bold;display: inline-block;line-height: 1.2em;}#sk-container-id-2 div.sk-label-container {text-align: center;}#sk-container-id-2 div.sk-container {/* jupyter's `normalize.less` sets `[hidden] { display: none; }` but bootstrap.min.css set `[hidden] { display: none !important; }` so we also need the `!important` here to be able to override the default hidden behavior on the sphinx rendered scikit-learn.org. See: https://github.com/scikit-learn/scikit-learn/issues/21755 */display: inline-block !important;position: relative;}#sk-container-id-2 div.sk-text-repr-fallback {display: none;}</style><div id=\"sk-container-id-2\" class=\"sk-top-container\"><div class=\"sk-text-repr-fallback\"><pre>KNeighborsClassifier(n_neighbors=17)</pre><b>In a Jupyter environment, please rerun this cell to show the HTML representation or trust the notebook. <br />On GitHub, the HTML representation is unable to render, please try loading this page with nbviewer.org.</b></div><div class=\"sk-container\" hidden><div class=\"sk-item\"><div class=\"sk-estimator sk-toggleable\"><input class=\"sk-toggleable__control sk-hidden--visually\" id=\"sk-estimator-id-2\" type=\"checkbox\" checked><label for=\"sk-estimator-id-2\" class=\"sk-toggleable__label sk-toggleable__label-arrow\">KNeighborsClassifier</label><div class=\"sk-toggleable__content\"><pre>KNeighborsClassifier(n_neighbors=17)</pre></div></div></div></div></div>"
      ],
      "text/plain": [
       "KNeighborsClassifier(n_neighbors=17)"
      ]
     },
     "execution_count": 71,
     "metadata": {},
     "output_type": "execute_result"
    }
   ],
   "source": [
    "from sklearn.neighbors import KNeighborsClassifier\n",
    "knn = KNeighborsClassifier(n_neighbors=k)\n",
    "knn.fit(X_train, y_train)\n"
   ]
  },
  {
   "cell_type": "code",
   "execution_count": 72,
   "metadata": {},
   "outputs": [
    {
     "data": {
      "text/plain": [
       "array([0, 1, 0, 1, 0, 1, 1, 0, 0, 0, 1, 0, 1, 0, 1, 0, 0, 1, 1, 0, 1, 1,\n",
       "       0, 0, 0, 0, 0, 1, 1, 0, 0, 0, 1, 1, 1, 1, 1, 1, 1, 0, 0, 0, 1, 1,\n",
       "       0, 0, 0, 0, 1, 0, 1, 0, 0, 1, 0, 1, 0, 0, 0, 0, 1, 1, 0, 0, 0, 0,\n",
       "       1, 0, 0, 0, 1, 0, 1, 0, 0, 0, 0, 1, 1, 0], dtype=int64)"
      ]
     },
     "execution_count": 72,
     "metadata": {},
     "output_type": "execute_result"
    }
   ],
   "source": [
    "y_pred = knn.predict(X_test)\n",
    "y_pred"
   ]
  },
  {
   "cell_type": "code",
   "execution_count": 74,
   "metadata": {},
   "outputs": [
    {
     "data": {
      "text/plain": [
       "0.9"
      ]
     },
     "execution_count": 74,
     "metadata": {},
     "output_type": "execute_result"
    }
   ],
   "source": [
    "from sklearn.metrics import accuracy_score, confusion_matrix\n",
    "accuracy_score(y_test, y_pred)\n"
   ]
  },
  {
   "cell_type": "code",
   "execution_count": 75,
   "metadata": {},
   "outputs": [
    {
     "data": {
      "text/plain": [
       "array([[44,  5],\n",
       "       [ 3, 28]], dtype=int64)"
      ]
     },
     "execution_count": 75,
     "metadata": {},
     "output_type": "execute_result"
    }
   ],
   "source": [
    "confusion_matrix(y_test, y_pred)\n"
   ]
  },
  {
   "cell_type": "code",
   "execution_count": 80,
   "metadata": {},
   "outputs": [],
   "source": [
    "error_train = []\n",
    "error_test = []\n",
    "\n",
    "for i in range(1, 26):\n",
    "    knn = KNeighborsClassifier(n_neighbors=i)\n",
    "    knn.fit(X_train, y_train)\n",
    "    x = confusion_matrix(y_train, knn.predict(X_train))\n",
    "    y = confusion_matrix(y_test, knn.predict(X_test))\n",
    "    error_train.append(x[0][1]+x[1][0]/x.sum())\n",
    "    error_test.append(y[0][1]+y[1][0]/y.sum())\n"
   ]
  },
  {
   "cell_type": "code",
   "execution_count": 81,
   "metadata": {},
   "outputs": [
    {
     "data": {
      "text/plain": [
       "<matplotlib.legend.Legend at 0x27209b62350>"
      ]
     },
     "execution_count": 81,
     "metadata": {},
     "output_type": "execute_result"
    },
    {
     "data": {
      "image/png": "[encoded data removed]",
      "text/plain": [
       "<Figure size 640x480 with 1 Axes>"
      ]
     },
     "metadata": {},
     "output_type": "display_data"
    }
   ],
   "source": [
    "\n",
    "plt.plot(range(1,26), error_train, label = 'training error rate')\n",
    "plt.plot(range(1,26), error_test, label = 'test/validation error rate')\n",
    "plt.xlabel('K Value')\n",
    "plt.ylabel('Error')\n",
    "plt.legend()\n"
   ]
  },
  {
   "cell_type": "code",
   "execution_count": 82,
   "metadata": {},
   "outputs": [
    {
     "data": {
      "text/plain": [
       "[0.8375,\n",
       " 0.825,\n",
       " 0.8875,\n",
       " 0.8625,\n",
       " 0.875,\n",
       " 0.875,\n",
       " 0.9125,\n",
       " 0.9125,\n",
       " 0.9,\n",
       " 0.9,\n",
       " 0.9,\n",
       " 0.9,\n",
       " 0.9,\n",
       " 0.9,\n",
       " 0.9,\n",
       " 0.9,\n",
       " 0.9,\n",
       " 0.8875,\n",
       " 0.8875,\n",
       " 0.8875,\n",
       " 0.8875,\n",
       " 0.8875,\n",
       " 0.8875,\n",
       " 0.8875,\n",
       " 0.8875]"
      ]
     },
     "execution_count": 82,
     "metadata": {},
     "output_type": "execute_result"
    }
   ],
   "source": [
    "accuracy = []\n",
    "for i in range(1, 26):\n",
    "    knn = KNeighborsClassifier(n_neighbors=i)\n",
    "    knn.fit(X_train, y_train)\n",
    "    accuracy.append(accuracy_score(y_test, knn.predict(X_test)))\n",
    "\n",
    "accuracy"
   ]
  },
  {
   "cell_type": "code",
   "execution_count": 83,
   "metadata": {},
   "outputs": [
    {
     "data": {
      "text/plain": [
       "6"
      ]
     },
     "execution_count": 83,
     "metadata": {},
     "output_type": "execute_result"
    }
   ],
   "source": [
    "np.argmax(accuracy)"
   ]
  },
  {
   "cell_type": "markdown",
   "metadata": {},
   "source": [
    "at 6th index we have highest accuracy = 0.9125 or 91.25%"
   ]
  },
  {
   "cell_type": "code",
   "execution_count": 86,
   "metadata": {},
   "outputs": [
    {
     "data": {
      "text/plain": [
       "0.875"
      ]
     },
     "execution_count": 86,
     "metadata": {},
     "output_type": "execute_result"
    }
   ],
   "source": [
    "knn = KNeighborsClassifier(n_neighbors=6)\n",
    "knn.fit(X_train, y_train)\n",
    "y_pred = knn.predict(X_test)\n",
    "accuracy_score(y_test, y_pred)\n"
   ]
  },
  {
   "cell_type": "code",
   "execution_count": 105,
   "metadata": {},
   "outputs": [],
   "source": [
    "def predict_output():\n",
    "    age = int(input(\"Enter age: \"))\n",
    "    salary = int(input(\"Enter salary: \"))\n",
    "\n",
    "    print(f'You entered:\\nage: {age}\\nsalary: {salary}')\n",
    "    print(np.array([[age],[salary]]).shape)\n",
    "    \n",
    "    X_new = np.array([[age],[salary]]).reshape(1,2)\n",
    "    X_new = scaler.transform(X_new)\n",
    "    \n",
    "    if knn.predict(X_new)[0] == 0:\n",
    "        return \"Will not purchase\"\n",
    "    else:\n",
    "        return \"Will purchase\"\n"
   ]
  },
  {
   "cell_type": "code",
   "execution_count": 104,
   "metadata": {},
   "outputs": [
    {
     "name": "stdout",
     "output_type": "stream",
     "text": [
      "You entered:\n",
      "age: 44\n",
      "salary: 23000\n",
      "(2, 1)\n"
     ]
    },
    {
     "name": "stderr",
     "output_type": "stream",
     "text": [
      "c:\\Users\\Shaheryar\\anaconda3\\Lib\\site-packages\\sklearn\\base.py:464: UserWarning: X does not have valid feature names, but StandardScaler was fitted with feature names\n",
      "  warnings.warn(\n"
     ]
    },
    {
     "data": {
      "text/plain": [
       "'Will purchase'"
      ]
     },
     "execution_count": 104,
     "metadata": {},
     "output_type": "execute_result"
    }
   ],
   "source": [
    "predict_output()"
   ]
  },
  {
   "cell_type": "code",
   "execution_count": 106,
   "metadata": {},
   "outputs": [
    {
     "name": "stdout",
     "output_type": "stream",
     "text": [
      "You entered:\n",
      "age: 22\n",
      "salary: 20000\n",
      "(2, 1)\n"
     ]
    },
    {
     "name": "stderr",
     "output_type": "stream",
     "text": [
      "c:\\Users\\Shaheryar\\anaconda3\\Lib\\site-packages\\sklearn\\base.py:464: UserWarning: X does not have valid feature names, but StandardScaler was fitted with feature names\n",
      "  warnings.warn(\n"
     ]
    },
    {
     "data": {
      "text/plain": [
       "'Will not purchase'"
      ]
     },
     "execution_count": 106,
     "metadata": {},
     "output_type": "execute_result"
    }
   ],
   "source": [
    "predict_output()"
   ]
  },
  {
   "cell_type": "code",
   "execution_count": null,
   "metadata": {},
   "outputs": [],
   "source": []
  },
  {
   "cell_type": "code",
   "execution_count": null,
   "metadata": {},
   "outputs": [],
   "source": []
  },
  {
   "cell_type": "code",
   "execution_count": null,
   "metadata": {},
   "outputs": [],
   "source": []
  },
  {
   "cell_type": "code",
   "execution_count": null,
   "metadata": {},
   "outputs": [],
   "source": []
  },
  {
   "cell_type": "code",
   "execution_count": null,
   "metadata": {},
   "outputs": [],
   "source": []
  },
  {
   "cell_type": "code",
   "execution_count": null,
   "metadata": {},
   "outputs": [],
   "source": []
  },
  {
   "cell_type": "code",
   "execution_count": null,
   "metadata": {},
   "outputs": [],
   "source": []
  },
  {
   "cell_type": "code",
   "execution_count": null,
   "metadata": {},
   "outputs": [],
   "source": []
  },
  {
   "cell_type": "code",
   "execution_count": null,
   "metadata": {},
   "outputs": [],
   "source": []
  },
  {
   "cell_type": "code",
   "execution_count": null,
   "metadata": {},
   "outputs": [],
   "source": []
  }
 ],
 "metadata": {
  "kernelspec": {
   "display_name": "base",
   "language": "python",
   "name": "python3"
  },
  "language_info": {
   "codemirror_mode": {
    "name": "ipython",
    "version": 3
   },
   "file_extension": ".py",
   "mimetype": "text/x-python",
   "name": "python",
   "nbconvert_exporter": "python",
   "pygments_lexer": "ipython3",
   "version": "3.11.4"
  }
 },
 "nbformat": 4,
 "nbformat_minor": 2
}
